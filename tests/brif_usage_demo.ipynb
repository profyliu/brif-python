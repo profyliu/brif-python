{
 "cells": [
  {
   "cell_type": "code",
   "execution_count": 5,
   "metadata": {},
   "outputs": [],
   "source": [
    "import brif\n",
    "import pandas as pd\n",
    "import time"
   ]
  },
  {
   "cell_type": "code",
   "execution_count": 16,
   "metadata": {},
   "outputs": [],
   "source": [
    "# Load the data\n",
    "df = pd.read_csv(\"data/auto.csv\")\n",
    "# Split into training and test\n",
    "df_train = df.sample(frac = 0.7)\n",
    "df_test = df.drop(df_train.index)"
   ]
  },
  {
   "cell_type": "code",
   "execution_count": 17,
   "metadata": {},
   "outputs": [
    {
     "name": "stdout",
     "output_type": "stream",
     "text": [
      "      mpg  cylinders  displacement  horsepower  weight  acceleration  year  \\\n",
      "76   22.0          4         121.0          76    2511          18.0    72   \n",
      "112  21.0          6         155.0         107    2472          14.0    73   \n",
      "327  44.6          4          91.0          67    1850          13.8    80   \n",
      "20   25.0          4         110.0          87    2672          17.5    70   \n",
      "248  19.4          8         318.0         140    3735          13.2    78   \n",
      "..    ...        ...           ...         ...     ...           ...   ...   \n",
      "86   13.0          8         350.0         145    3988          13.0    73   \n",
      "388  44.0          4          97.0          52    2130          24.6    82   \n",
      "373  36.0          4          98.0          70    2125          17.3    82   \n",
      "241  21.5          3          80.0         110    2720          13.5    77   \n",
      "121  24.0          4         121.0         110    2660          14.0    73   \n",
      "\n",
      "    origin  \n",
      "76     EUJ  \n",
      "112    USA  \n",
      "327    EUJ  \n",
      "20     EUJ  \n",
      "248    USA  \n",
      "..     ...  \n",
      "86     USA  \n",
      "388    EUJ  \n",
      "373    USA  \n",
      "241    EUJ  \n",
      "121    EUJ  \n",
      "\n",
      "[274 rows x 8 columns]\n"
     ]
    }
   ],
   "source": [
    "print(df_train)"
   ]
  },
  {
   "cell_type": "code",
   "execution_count": 22,
   "metadata": {},
   "outputs": [
    {
     "name": "stdout",
     "output_type": "stream",
     "text": [
      "['mpg', 'cylinders', 'displacement', 'horsepower', 'weight', 'acceleration', 'year', 'origin']\n"
     ]
    }
   ],
   "source": [
    "all_vars = list(df_train.columns.values)\n",
    "print(all_vars)"
   ]
  },
  {
   "cell_type": "code",
   "execution_count": 14,
   "metadata": {},
   "outputs": [],
   "source": [
    "target_var = 'origin'"
   ]
  },
  {
   "cell_type": "code",
   "execution_count": 19,
   "metadata": {},
   "outputs": [
    {
     "name": "stdout",
     "output_type": "stream",
     "text": [
      "Time elapased: 0.045\n"
     ]
    }
   ],
   "source": [
    "start = time.time()\n",
    "bf = brif.brif()\n",
    "bf.fit(df_train, target_var)\n",
    "end = time.time()\n",
    "print(\"Time elapsed: {:.3f}\".format(end - start))"
   ]
  },
  {
   "cell_type": "code",
   "execution_count": 24,
   "metadata": {},
   "outputs": [
    {
     "name": "stdout",
     "output_type": "stream",
     "text": [
      "      mpg  cylinders  displacement  horsepower  weight  acceleration  year  \\\n",
      "3    16.0          8         304.0         150    3433          12.0    70   \n",
      "4    17.0          8         302.0         140    3449          10.5    70   \n",
      "7    14.0          8         440.0         215    4312           8.5    70   \n",
      "8    14.0          8         455.0         225    4425          10.0    70   \n",
      "13   14.0          8         455.0         225    3086          10.0    70   \n",
      "..    ...        ...           ...         ...     ...           ...   ...   \n",
      "377  38.0          4          91.0          67    1965          15.0    82   \n",
      "380  25.0          6         181.0         110    2945          16.4    82   \n",
      "382  26.0          4         156.0          92    2585          14.5    82   \n",
      "383  22.0          6         232.0         112    2835          14.7    82   \n",
      "390  28.0          4         120.0          79    2625          18.6    82   \n",
      "\n",
      "    origin  \n",
      "3      USA  \n",
      "4      USA  \n",
      "7      USA  \n",
      "8      USA  \n",
      "13     USA  \n",
      "..     ...  \n",
      "377    EUJ  \n",
      "380    USA  \n",
      "382    USA  \n",
      "383    USA  \n",
      "390    USA  \n",
      "\n",
      "[118 rows x 8 columns]\n"
     ]
    }
   ],
   "source": [
    "print(df_test[all_vars])"
   ]
  },
  {
   "cell_type": "code",
   "execution_count": 25,
   "metadata": {},
   "outputs": [
    {
     "name": "stdout",
     "output_type": "stream",
     "text": [
      "Time elapsed: 0.006\n"
     ]
    }
   ],
   "source": [
    "all_vars.remove(target_var)\n",
    "start = time.time()\n",
    "pred = bf.predict(df_test[all_vars], type = 'score')\n",
    "end = time.time()\n",
    "print(\"Time elapsed: {:.3f}\".format(end - start))"
   ]
  },
  {
   "cell_type": "code",
   "execution_count": 27,
   "metadata": {},
   "outputs": [
    {
     "name": "stdout",
     "output_type": "stream",
     "text": [
      "          EUJ       USA\n",
      "0    0.003761  0.996239\n",
      "1    0.005275  0.994725\n",
      "2    0.000923  0.999077\n",
      "3    0.000923  0.999077\n",
      "4    0.056023  0.943977\n",
      "..        ...       ...\n",
      "113  0.915707  0.084293\n",
      "114  0.261772  0.738228\n",
      "115  0.217507  0.782493\n",
      "116  0.127679  0.872321\n",
      "117  0.408414  0.591586\n",
      "\n",
      "[118 rows x 2 columns]\n"
     ]
    }
   ],
   "source": [
    "print(pred)"
   ]
  },
  {
   "cell_type": "code",
   "execution_count": 30,
   "metadata": {},
   "outputs": [
    {
     "data": {
      "text/plain": [
       "0.9562790697674418"
      ]
     },
     "execution_count": 30,
     "metadata": {},
     "output_type": "execute_result"
    }
   ],
   "source": [
    "import numpy as np\n",
    "from sklearn import metrics\n",
    "label = np.array(df_test[target_var])\n",
    "score = np.array(pred['USA'])\n",
    "fpr, tpr, thresholds = metrics.roc_curve(label, score, pos_label='USA')\n",
    "auc = metrics.auc(fpr, tpr)  # Get AUC\n",
    "auc"
   ]
  },
  {
   "cell_type": "code",
   "execution_count": 31,
   "metadata": {},
   "outputs": [
    {
     "data": {
      "image/png": "[encoded data removed]",
      "text/plain": [
       "<Figure size 432x288 with 1 Axes>"
      ]
     },
     "metadata": {
      "needs_background": "light"
     },
     "output_type": "display_data"
    }
   ],
   "source": [
    "import matplotlib.pyplot as plt\n",
    "plt.plot(fpr,tpr,label=\"AUC=\"+str(auc))\n",
    "plt.ylabel('True Positive Rate')\n",
    "plt.xlabel('False Positive Rate')\n",
    "plt.legend(loc=4)\n",
    "plt.show()"
   ]
  },
  {
   "cell_type": "code",
   "execution_count": 37,
   "metadata": {},
   "outputs": [
    {
     "data": {
      "text/plain": [
       "0.8813559322033898"
      ]
     },
     "execution_count": 37,
     "metadata": {},
     "output_type": "execute_result"
    }
   ],
   "source": [
    "from sklearn.metrics import accuracy_score\n",
    "pred_label = bf.predict(df_test[all_vars], type = 'class')\n",
    "true_label = list(df_test[target_var])\n",
    "accuracy_score(pred_label, true_label)  # Get Accuracy"
   ]
  }
 ],
 "metadata": {
  "kernelspec": {
   "display_name": "Python 3",
   "language": "python",
   "name": "python3"
  },
  "language_info": {
   "codemirror_mode": {
    "name": "ipython",
    "version": 3
   },
   "file_extension": ".py",
   "mimetype": "text/x-python",
   "name": "python",
   "nbconvert_exporter": "python",
   "pygments_lexer": "ipython3",
   "version": "3.8.5"
  }
 },
 "nbformat": 4,
 "nbformat_minor": 4
}
